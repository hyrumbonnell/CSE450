{
  "nbformat": 4,
  "nbformat_minor": 0,
  "metadata": {
    "colab": {
      "name": "Module-04.ipynb",
      "provenance": [],
      "collapsed_sections": []
    },
    "kernelspec": {
      "name": "python3",
      "display_name": "Python 3"
    }
  },
  "cells": [
    {
      "cell_type": "code",
      "metadata": {
        "id": "mA0HPVmIBT4C"
      },
      "source": [
        "import pandas as pd\n",
        "import numpy as np  \n",
        "from sklearn.metrics import confusion_matrix \n",
        "from sklearn.model_selection import train_test_split \n",
        "from sklearn.tree import DecisionTreeClassifier \n",
        "from sklearn.metrics import accuracy_score \n",
        "from sklearn.metrics import classification_report\n",
        "from sklearn import metrics\n",
        "import matplotlib as plt\n",
        "import matplotlib.pyplot\n",
        "from sklearn.tree import export_graphviz\n",
        "from sklearn.externals.six import StringIO  \n",
        "from IPython.display import Image  \n",
        "import pydotplus\n",
        "import statistics as stat\n",
        "\n"
      ],
      "execution_count": 18,
      "outputs": []
    },
    {
      "cell_type": "code",
      "metadata": {
        "id": "Ex5VSltTDYqh"
      },
      "source": [
        "\n",
        "pd.set_option('display.max_rows', 500)\n",
        "df = pd.read_csv('https://raw.githubusercontent.com/byui-cse/cse450-course/master/data/spotify/data.csv')\n",
        "genre = pd.read_csv('https://raw.githubusercontent.com/byui-cse/cse450-course/master/data/spotify/data_by_genres.csv')\n",
        "df.loc[(df.popularity < 48), 'popularity'] = 0\n",
        "df.loc[(df.popularity >= 48), 'popularity'] = 1 \n"
      ],
      "execution_count": 70,
      "outputs": []
    },
    {
      "cell_type": "code",
      "metadata": {
        "id": "StiU5QcPPxqQ",
        "outputId": "8f6ec4f3-0305-48e6-c879-48ebde640331",
        "colab": {
          "base_uri": "https://localhost:8080/",
          "height": 428
        }
      },
      "source": [
        "df.head()"
      ],
      "execution_count": 71,
      "outputs": [
        {
          "output_type": "execute_result",
          "data": {
            "text/html": [
              "<div>\n",
              "<style scoped>\n",
              "    .dataframe tbody tr th:only-of-type {\n",
              "        vertical-align: middle;\n",
              "    }\n",
              "\n",
              "    .dataframe tbody tr th {\n",
              "        vertical-align: top;\n",
              "    }\n",
              "\n",
              "    .dataframe thead th {\n",
              "        text-align: right;\n",
              "    }\n",
              "</style>\n",
              "<table border=\"1\" class=\"dataframe\">\n",
              "  <thead>\n",
              "    <tr style=\"text-align: right;\">\n",
              "      <th></th>\n",
              "      <th>acousticness</th>\n",
              "      <th>artists</th>\n",
              "      <th>danceability</th>\n",
              "      <th>duration_ms</th>\n",
              "      <th>energy</th>\n",
              "      <th>explicit</th>\n",
              "      <th>id</th>\n",
              "      <th>instrumentalness</th>\n",
              "      <th>key</th>\n",
              "      <th>liveness</th>\n",
              "      <th>loudness</th>\n",
              "      <th>mode</th>\n",
              "      <th>name</th>\n",
              "      <th>popularity</th>\n",
              "      <th>release_date</th>\n",
              "      <th>speechiness</th>\n",
              "      <th>tempo</th>\n",
              "      <th>valence</th>\n",
              "      <th>year</th>\n",
              "    </tr>\n",
              "  </thead>\n",
              "  <tbody>\n",
              "    <tr>\n",
              "      <th>0</th>\n",
              "      <td>0.995</td>\n",
              "      <td>['Carl Woitschach']</td>\n",
              "      <td>0.708</td>\n",
              "      <td>158648</td>\n",
              "      <td>0.1950</td>\n",
              "      <td>0</td>\n",
              "      <td>6KbQ3uYMLKb5jDxLF7wYDD</td>\n",
              "      <td>0.563</td>\n",
              "      <td>10</td>\n",
              "      <td>0.1510</td>\n",
              "      <td>-12.428</td>\n",
              "      <td>1</td>\n",
              "      <td>Singende Bataillone 1. Teil</td>\n",
              "      <td>0</td>\n",
              "      <td>1928</td>\n",
              "      <td>0.0506</td>\n",
              "      <td>118.469</td>\n",
              "      <td>0.7790</td>\n",
              "      <td>1928</td>\n",
              "    </tr>\n",
              "    <tr>\n",
              "      <th>1</th>\n",
              "      <td>0.994</td>\n",
              "      <td>['Robert Schumann', 'Vladimir Horowitz']</td>\n",
              "      <td>0.379</td>\n",
              "      <td>282133</td>\n",
              "      <td>0.0135</td>\n",
              "      <td>0</td>\n",
              "      <td>6KuQTIu1KoTTkLXKrwlLPV</td>\n",
              "      <td>0.901</td>\n",
              "      <td>8</td>\n",
              "      <td>0.0763</td>\n",
              "      <td>-28.454</td>\n",
              "      <td>1</td>\n",
              "      <td>Fantasiestücke, Op. 111: Più tosto lento</td>\n",
              "      <td>0</td>\n",
              "      <td>1928</td>\n",
              "      <td>0.0462</td>\n",
              "      <td>83.972</td>\n",
              "      <td>0.0767</td>\n",
              "      <td>1928</td>\n",
              "    </tr>\n",
              "    <tr>\n",
              "      <th>2</th>\n",
              "      <td>0.604</td>\n",
              "      <td>['Seweryn Goszczyński']</td>\n",
              "      <td>0.749</td>\n",
              "      <td>104300</td>\n",
              "      <td>0.2200</td>\n",
              "      <td>0</td>\n",
              "      <td>6L63VW0PibdM1HDSBoqnoM</td>\n",
              "      <td>0.000</td>\n",
              "      <td>5</td>\n",
              "      <td>0.1190</td>\n",
              "      <td>-19.924</td>\n",
              "      <td>0</td>\n",
              "      <td>Chapter 1.18 - Zamek kaniowski</td>\n",
              "      <td>0</td>\n",
              "      <td>1928</td>\n",
              "      <td>0.9290</td>\n",
              "      <td>107.177</td>\n",
              "      <td>0.8800</td>\n",
              "      <td>1928</td>\n",
              "    </tr>\n",
              "    <tr>\n",
              "      <th>3</th>\n",
              "      <td>0.995</td>\n",
              "      <td>['Francisco Canaro']</td>\n",
              "      <td>0.781</td>\n",
              "      <td>180760</td>\n",
              "      <td>0.1300</td>\n",
              "      <td>0</td>\n",
              "      <td>6M94FkXd15sOAOQYRnWPN8</td>\n",
              "      <td>0.887</td>\n",
              "      <td>1</td>\n",
              "      <td>0.1110</td>\n",
              "      <td>-14.734</td>\n",
              "      <td>0</td>\n",
              "      <td>Bebamos Juntos - Instrumental (Remasterizado)</td>\n",
              "      <td>0</td>\n",
              "      <td>1928-09-25</td>\n",
              "      <td>0.0926</td>\n",
              "      <td>108.003</td>\n",
              "      <td>0.7200</td>\n",
              "      <td>1928</td>\n",
              "    </tr>\n",
              "    <tr>\n",
              "      <th>4</th>\n",
              "      <td>0.990</td>\n",
              "      <td>['Frédéric Chopin', 'Vladimir Horowitz']</td>\n",
              "      <td>0.210</td>\n",
              "      <td>687733</td>\n",
              "      <td>0.2040</td>\n",
              "      <td>0</td>\n",
              "      <td>6N6tiFZ9vLTSOIxkj8qKrd</td>\n",
              "      <td>0.908</td>\n",
              "      <td>11</td>\n",
              "      <td>0.0980</td>\n",
              "      <td>-16.829</td>\n",
              "      <td>1</td>\n",
              "      <td>Polonaise-Fantaisie in A-Flat Major, Op. 61</td>\n",
              "      <td>0</td>\n",
              "      <td>1928</td>\n",
              "      <td>0.0424</td>\n",
              "      <td>62.149</td>\n",
              "      <td>0.0693</td>\n",
              "      <td>1928</td>\n",
              "    </tr>\n",
              "  </tbody>\n",
              "</table>\n",
              "</div>"
            ],
            "text/plain": [
              "   acousticness                                   artists  ...  valence  year\n",
              "0         0.995                       ['Carl Woitschach']  ...   0.7790  1928\n",
              "1         0.994  ['Robert Schumann', 'Vladimir Horowitz']  ...   0.0767  1928\n",
              "2         0.604                   ['Seweryn Goszczyński']  ...   0.8800  1928\n",
              "3         0.995                      ['Francisco Canaro']  ...   0.7200  1928\n",
              "4         0.990  ['Frédéric Chopin', 'Vladimir Horowitz']  ...   0.0693  1928\n",
              "\n",
              "[5 rows x 19 columns]"
            ]
          },
          "metadata": {
            "tags": []
          },
          "execution_count": 71
        }
      ]
    },
    {
      "cell_type": "code",
      "metadata": {
        "id": "ALLMN63FPyEQ"
      },
      "source": [
        "features = ['acousticness', 'danceability', 'duration_ms', 'energy', 'instrumentalness', 'liveness', 'loudness', 'speechiness', 'tempo', 'valence', 'key']\n",
        "x = df[features]\n",
        "y = df['popularity']"
      ],
      "execution_count": 72,
      "outputs": []
    },
    {
      "cell_type": "code",
      "metadata": {
        "id": "1QyvQJ5PNwPU"
      },
      "source": [
        "\n",
        "X_train, X_test, y_train, y_test = train_test_split( \n",
        "          x, y, test_size = 0.3)"
      ],
      "execution_count": 73,
      "outputs": []
    },
    {
      "cell_type": "code",
      "metadata": {
        "id": "IWimvMzzN5Sd"
      },
      "source": [
        "clf = DecisionTreeClassifier()\n",
        "\n",
        "# Train Decision Tree Classifer\n",
        "clf = clf.fit(X_train,y_train)\n",
        "\n",
        "#Predict the response for test dataset\n",
        "y_pred = clf.predict(X_test)"
      ],
      "execution_count": 74,
      "outputs": []
    },
    {
      "cell_type": "code",
      "metadata": {
        "id": "IX7Ya7fSN6Y9",
        "outputId": "2fb63785-2b97-4af6-b5d7-97158c5af1de",
        "colab": {
          "base_uri": "https://localhost:8080/"
        }
      },
      "source": [
        "print(\"Accuracy:\",metrics.accuracy_score(y_test, y_pred))"
      ],
      "execution_count": 75,
      "outputs": [
        {
          "output_type": "stream",
          "text": [
            "Accuracy: 0.7320738430149295\n"
          ],
          "name": "stdout"
        }
      ]
    },
    {
      "cell_type": "code",
      "metadata": {
        "id": "RnGBwGVZPyyh",
        "outputId": "9c1adb16-e328-4bca-ae15-b46480fcbd30",
        "colab": {
          "base_uri": "https://localhost:8080/",
          "height": 173
        }
      },
      "source": [
        "pd.DataFrame(metrics.classification_report(y_test, y_pred, output_dict = True))"
      ],
      "execution_count": 78,
      "outputs": [
        {
          "output_type": "execute_result",
          "data": {
            "text/html": [
              "<div>\n",
              "<style scoped>\n",
              "    .dataframe tbody tr th:only-of-type {\n",
              "        vertical-align: middle;\n",
              "    }\n",
              "\n",
              "    .dataframe tbody tr th {\n",
              "        vertical-align: top;\n",
              "    }\n",
              "\n",
              "    .dataframe thead th {\n",
              "        text-align: right;\n",
              "    }\n",
              "</style>\n",
              "<table border=\"1\" class=\"dataframe\">\n",
              "  <thead>\n",
              "    <tr style=\"text-align: right;\">\n",
              "      <th></th>\n",
              "      <th>0</th>\n",
              "      <th>1</th>\n",
              "      <th>accuracy</th>\n",
              "      <th>macro avg</th>\n",
              "      <th>weighted avg</th>\n",
              "    </tr>\n",
              "  </thead>\n",
              "  <tbody>\n",
              "    <tr>\n",
              "      <th>precision</th>\n",
              "      <td>0.822876</td>\n",
              "      <td>0.480509</td>\n",
              "      <td>0.732074</td>\n",
              "      <td>0.651692</td>\n",
              "      <td>0.734687</td>\n",
              "    </tr>\n",
              "    <tr>\n",
              "      <th>recall</th>\n",
              "      <td>0.814417</td>\n",
              "      <td>0.494745</td>\n",
              "      <td>0.732074</td>\n",
              "      <td>0.654581</td>\n",
              "      <td>0.732074</td>\n",
              "    </tr>\n",
              "    <tr>\n",
              "      <th>f1-score</th>\n",
              "      <td>0.818625</td>\n",
              "      <td>0.487523</td>\n",
              "      <td>0.732074</td>\n",
              "      <td>0.653074</td>\n",
              "      <td>0.733337</td>\n",
              "    </tr>\n",
              "    <tr>\n",
              "      <th>support</th>\n",
              "      <td>37843.000000</td>\n",
              "      <td>13130.000000</td>\n",
              "      <td>0.732074</td>\n",
              "      <td>50973.000000</td>\n",
              "      <td>50973.000000</td>\n",
              "    </tr>\n",
              "  </tbody>\n",
              "</table>\n",
              "</div>"
            ],
            "text/plain": [
              "                      0             1  accuracy     macro avg  weighted avg\n",
              "precision      0.822876      0.480509  0.732074      0.651692      0.734687\n",
              "recall         0.814417      0.494745  0.732074      0.654581      0.732074\n",
              "f1-score       0.818625      0.487523  0.732074      0.653074      0.733337\n",
              "support    37843.000000  13130.000000  0.732074  50973.000000  50973.000000"
            ]
          },
          "metadata": {
            "tags": []
          },
          "execution_count": 78
        }
      ]
    },
    {
      "cell_type": "code",
      "metadata": {
        "id": "CVSfaqgKPzE2"
      },
      "source": [
        "PopStd = np.std(df.popularity)\n",
        "PopMax = df.popularity.max()"
      ],
      "execution_count": 24,
      "outputs": []
    },
    {
      "cell_type": "code",
      "metadata": {
        "id": "2bw0PNIoJkjj",
        "outputId": "0024098c-5d43-4590-9747-b8496f36e6cb",
        "colab": {
          "base_uri": "https://localhost:8080/"
        }
      },
      "source": [
        "metrics.confusion_matrix(y_test, y_pred)"
      ],
      "execution_count": 77,
      "outputs": [
        {
          "output_type": "execute_result",
          "data": {
            "text/plain": [
              "array([[30820,  7023],\n",
              "       [ 6634,  6496]])"
            ]
          },
          "metadata": {
            "tags": []
          },
          "execution_count": 77
        }
      ]
    },
    {
      "cell_type": "code",
      "metadata": {
        "id": "TgdH8RAeR3oK",
        "outputId": "0abbe418-b986-4b1f-bc26-7a940b4b5098",
        "colab": {
          "base_uri": "https://localhost:8080/"
        }
      },
      "source": [
        "clf.feature_importances_"
      ],
      "execution_count": 79,
      "outputs": [
        {
          "output_type": "execute_result",
          "data": {
            "text/plain": [
              "array([0.10789115, 0.08964048, 0.08736731, 0.07263253, 0.06348337,\n",
              "       0.07021565, 0.22557786, 0.07647706, 0.07634808, 0.09812964,\n",
              "       0.03223687])"
            ]
          },
          "metadata": {
            "tags": []
          },
          "execution_count": 79
        }
      ]
    }
  ]
}